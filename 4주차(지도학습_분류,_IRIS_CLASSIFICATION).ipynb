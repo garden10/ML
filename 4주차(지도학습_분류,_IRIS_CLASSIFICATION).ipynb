{
  "nbformat": 4,
  "nbformat_minor": 0,
  "metadata": {
    "colab": {
      "name": "4주차(지도학습 분류, IRIS CLASSIFICATION).ipynb",
      "provenance": [],
      "collapsed_sections": [],
      "authorship_tag": "ABX9TyO5Oa9rnw5Kyg0e4jOPAqM6"
    },
    "kernelspec": {
      "name": "python3",
      "display_name": "Python 3"
    },
    "language_info": {
      "name": "python"
    }
  },
  "cells": [
    {
      "cell_type": "code",
      "metadata": {
        "id": "vkel1OQIC-GO"
      },
      "source": [
        "# 1. Meet the Data\n",
        "import numpy as np\n",
        "import matplotlib.pyplot as plt\n",
        "import pandas as pd\n",
        "\n",
        "from sklearn.datasets import load_iris\n",
        "iris_dataset=load_iris()"
      ],
      "execution_count": 15,
      "outputs": []
    },
    {
      "cell_type": "code",
      "metadata": {
        "id": "5N4bwMOGcy02"
      },
      "source": [
        "# 2. Measuring Success: Training and Testing Data \n",
        "from sklearn.model_selection import train_test_split\n",
        "X_train,X_test, y_train, y_test = train_test_split(iris_dataset['data'], iris_dataset['target'], random_state = 0 )\n",
        "# random_state =0은 random 함수의 seed 값을 고정하여 같은 레코드를 추출하도록 하기 위함"
      ],
      "execution_count": 16,
      "outputs": []
    },
    {
      "cell_type": "code",
      "metadata": {
        "id": "Ok56ZZxPc3aP"
      },
      "source": [
        "# 3. First Things First: Look at Your Data\n",
        "!pip install mglearn\n",
        "import mglearn\n",
        "iris_dataframe=pd.DataFrame(X_train, columns=iris_dataset.feature_names)\n",
        "pd.plotting.scatter_matrix(iris_dataframe, c=y_train,figsize=(15, 15), marker='0', hist_kwds={'bins': 20}, s=60, alpha=.8, cmap=mglearn.cm3)\n",
        "# 첫 번째 인수는 산점도 행렬을 만들기 위해 pandas를 통해 만든 dataframe\n",
        "# c: 색으로 구분할 데이터 / figsize: 시각화한 그림의 크기 / marker: 출력되는 특성이 어떤 글자로 나오게 할지 설정\n",
        "# hist_kwds: 딕셔너리 / bins: 히스토그램의 구간 수 / s: 출력되는 특성의 크기\n",
        "# alpha: 출력되는 특성의 투명도 / cmap: 어떤 컬러맵을 사용할지 결정 "
      ],
      "execution_count": null,
      "outputs": []
    },
    {
      "cell_type": "code",
      "metadata": {
        "id": "86VLzzwBc55P"
      },
      "source": [
        "#4. Building Your First Model: K-Nearest Neighbors \n",
        "from sklearn.neighbors import KNeighborsClassifier\n",
        "knn=KNeighborsClassifier(n_neighbors=1)\n",
        "\n",
        "knn.fit(X_train, y_train)\n",
        "\n",
        "help(KNeighborsClassifier)\n",
        "\n",
        "KNeighborsClassifier(algorithm='auto', leaf_size=30,metric='minkowski', metric_params=None, n_neighbors=1, p=2, weights='uniform')"
      ],
      "execution_count": null,
      "outputs": []
    },
    {
      "cell_type": "code",
      "metadata": {
        "id": "7UJmHYOvc8zu"
      },
      "source": [
        "#5. Making Predictions\n",
        "X_new=np.array([[5,2.9,1,0.2]])\n",
        "print(X_new.shape)\n",
        "\n",
        "prediction=knn.predict(X_new)\n",
        "print(\"prediction result\", prediction)\n",
        "print(\"target name of prediction result\",iris_dataset['target_names'][prediction])"
      ],
      "execution_count": null,
      "outputs": []
    },
    {
      "cell_type": "code",
      "metadata": {
        "id": "VhVoaE52eI7j"
      },
      "source": [
        "#6. Evaluationg the Model \n",
        "y_pred=knn.predict(X_test)\n",
        "print(\"prediction result of test dataset\", y_pred)\n",
        "\n",
        "print(\"테스트 세트의 정확도: {:.2f}\".format(np.mean(y_pred==y_test)))\n",
        "print(\"테스트 세트의 정확도: {:.2f}\".format(knn.score(X_test, y_test)))"
      ],
      "execution_count": null,
      "outputs": []
    }
  ]
}