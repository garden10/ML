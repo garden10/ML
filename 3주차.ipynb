{
  "nbformat": 4,
  "nbformat_minor": 0,
  "metadata": {
    "colab": {
      "name": "3주차.ipynb",
      "provenance": [],
      "authorship_tag": "ABX9TyOEHsIDGAqhS+7ND4xn/7Ee",
      "include_colab_link": true
    },
    "kernelspec": {
      "name": "python3",
      "display_name": "Python 3"
    },
    "language_info": {
      "name": "python"
    }
  },
  "cells": [
    {
      "cell_type": "markdown",
      "metadata": {
        "id": "view-in-github",
        "colab_type": "text"
      },
      "source": [
        "<a href=\"https://colab.research.google.com/github/garden10/ML/blob/main/3%EC%A3%BC%EC%B0%A8.ipynb\" target=\"_parent\"><img src=\"https://colab.research.google.com/assets/colab-badge.svg\" alt=\"Open In Colab\"/></a>"
      ]
    },
    {
      "cell_type": "code",
      "metadata": {
        "id": "VPm90Oo2tor4"
      },
      "source": [
        "#1. 필요한 라이브러리들 import \n",
        "import numpy as np\n",
        "import matplotlib.pyplot as plt\n",
        "import pandas as pd\n",
        "\n",
        "#2. 데이터 읽고 프린트(1): key\n",
        "from sklearn.datasets import load_iris\n",
        "iris_dataset=load_iris()\n",
        "\n",
        "print(\"iris_datset의 키:\\n\", iris_dataset.keys())\n",
        "\n",
        "#2. 데이터 프린트(2): sample data\n",
        "#방법1\n",
        "print(iris_dataset['data'][:5])\n",
        "#방법2\n",
        "import seaborn as sns\n",
        "iris_dataset2=sns.load_dataset('iris')\n",
        "iris_dataset2.head()\n",
        "\n",
        "#2. 데이터 프린트(3): (target_names, feature_names)\n",
        "print(iris_dataset['target_names'])\n",
        "print(iris_dataset['feature_names'])\n",
        "\n",
        "#2. 데이터 프린트(4): (target)\n",
        "print(iris_dataset['target'])\n",
        "print(type(iris_dataset['target']))\n",
        "print(iris_dataset['target'].shape)\n",
        "\n",
        "#3. 데이터 분리(학습 데이터, 테스트 데이터) \n",
        "from sklearn.model_selection import train_test_split\n",
        "X_train, X_test, y_train, y_test = train_test_split(iris_dataset['data'], iris_dataset['target'], random_state=0)\n",
        "\n",
        "print(X_train.shape)\n",
        "print(X_test.shape)\n",
        "print(type(X_train.shape))\n",
        "print(type(X_test.shape))\n",
        "\n",
        "print(y_train.shape)\n",
        "print(y_test.shape)\n",
        "print(type(y_train.shape))\n",
        "print(type(y_test.shape))\n",
        "\n",
        "#4~5. 코랩에서 드라이브 마운트 / 드라이브에서 폴더 생성 후 깃허브 코드 클론\n",
        "\n",
        "from google.colab import drive\n",
        "drive.mount('/content/drive')\n",
        "!cd \"/content/drive\"\n",
        "!cd \"/content/drive/My Drive/Example\"\n",
        "\n",
        "!mkdir \"/content/drive/My Drive/Example\"\n",
        "!cd \"/content/drive/My Drive/Example\"\n",
        "\n",
        "!git clone https://github.com/garden10/ML.git\n",
        "\n",
        "#6. 산점도 행렬 그려서 머신러닝 모델 가능성 및 종류 파악\n",
        "!pip install mglearn\n",
        "import mglearn\n",
        "\n",
        "iris_dataframe=pd.DataFrame(X_train, columns=iris_dataset.feature_names)\n",
        "pd.plotting.scatter_matrix(iris_dataframe, c=y_train, figsize=(15,15), marker='o', hist_kwds={'bins':20}, s=60, alpha=.8, cmap=mglearn.cm3)\n",
        "\n"
      ],
      "execution_count": null,
      "outputs": []
    },
    {
      "cell_type": "code",
      "metadata": {
        "id": "A1w_LMYc9K1M"
      },
      "source": [
        ""
      ],
      "execution_count": null,
      "outputs": []
    }
  ]
}